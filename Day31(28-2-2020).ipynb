{
 "cells": [
  {
   "cell_type": "markdown",
   "metadata": {},
   "source": [
    "###  String and string related problems in python"
   ]
  },
  {
   "cell_type": "raw",
   "metadata": {},
   "source": [
    "- string : sequence of chars\n",
    "- Python : character and string\n",
    "- ord(char) :Represents the output interms of ASCII number \n",
    "- chr(ord(char)) : Represents the output interms of ASCII char"
   ]
  },
  {
   "cell_type": "code",
   "execution_count": 2,
   "metadata": {},
   "outputs": [
    {
     "name": "stdout",
     "output_type": "stream",
     "text": [
      "<class 'str'> <class 'str'>\n",
      "12\n",
      "97\n",
      "a\n"
     ]
    }
   ],
   "source": [
    "s1 = \"a\"\n",
    "s2 = \"applications\"\n",
    "print(type(s1),type(s2))\n",
    "print(len(s2))\n",
    "print(ord(s1))\n",
    "print(chr(97))\n"
   ]
  },
  {
   "cell_type": "code",
   "execution_count": 6,
   "metadata": {},
   "outputs": [
    {
     "name": "stdout",
     "output_type": "stream",
     "text": [
      "sri krishna\n",
      "upper case :0 Lower case :10 \n"
     ]
    }
   ],
   "source": [
    "li =[]\n",
    "s1 =input()\n",
    "ucnt = 0\n",
    "lcnt = 0\n",
    "for i in range(len(s1)):\n",
    "    if ord(s1[i])>=65 and ord(s1[i])<=90:\n",
    "        ucnt+=1\n",
    "    elif ord(s1[i])>=97 and ord(s1[i])<=122:\n",
    "        lcnt+=1\n",
    "print(\"upper case :{} Lower case :{} \".format(ucnt,lcnt))\n",
    "\n"
   ]
  },
  {
   "cell_type": "code",
   "execution_count": 11,
   "metadata": {},
   "outputs": [
    {
     "name": "stdout",
     "output_type": "stream",
     "text": [
      "sada9fgo43kls saf;'afdfp\n",
      "upper case :0 Lower case :18 Space :1 \n"
     ]
    }
   ],
   "source": [
    "li =[]\n",
    "s1 =input()\n",
    "ucnt = 0\n",
    "lcnt = 0\n",
    "space = 0\n",
    "for i in range(len(s1)):\n",
    "    if s1[i].isupper():\n",
    "        ucnt+=1\n",
    "    elif s1[i].islower():\n",
    "        lcnt+=1\n",
    "    elif ord(s1[i])==32:\n",
    "        space+=1\n",
    "print(\"upper case :{} Lower case :{} Space :{} \".format(ucnt,lcnt,space))\n",
    "\n"
   ]
  },
  {
   "cell_type": "code",
   "execution_count": 23,
   "metadata": {},
   "outputs": [
    {
     "name": "stdout",
     "output_type": "stream",
     "text": [
      "16\n"
     ]
    }
   ],
   "source": [
    "#i/p-- Applca8ti8on9\n",
    "#o/p--16\n",
    "s = \"Applca8ti8on9\"\n",
    "sum = 0\n",
    "for i in range(len(s)):\n",
    "    if s[i].isdigit():\n",
    "        k = ord(s[i])-48\n",
    "        if k%2==0:\n",
    "            sum+=k\n",
    "print(sum)\n",
    "        \n",
    "        \n",
    "\n",
    "    "
   ]
  },
  {
   "cell_type": "code",
   "execution_count": 94,
   "metadata": {},
   "outputs": [
    {
     "name": "stdout",
     "output_type": "stream",
     "text": [
      "1 2 3 2 1 4 5 8 7 3 4 2 "
     ]
    }
   ],
   "source": [
    "# Mobile123Needs21works45Land87user342\n",
    "#153\n",
    "a =\"Mobile123Needs21works45Land87user342\"\n",
    "for i in range(len(a)):\n",
    "    if a[i].isdigit():\n",
    "        k = ord(a[i])-48\n",
    "        print(k,end=\" \")\n",
    "    "
   ]
  },
  {
   "cell_type": "code",
   "execution_count": 98,
   "metadata": {},
   "outputs": [
    {
     "name": "stdout",
     "output_type": "stream",
     "text": [
      "MobileNeedsworksLanduser\n",
      "123214587342\n",
      "\n"
     ]
    }
   ],
   "source": [
    "def splitString(str): \n",
    "  \n",
    "    alpha = \"\" \n",
    "    num = \"\" \n",
    "    special = \"\" \n",
    "    for i in range(len(str)): \n",
    "        if (str[i].isdigit()): \n",
    "            num = num+ str[i] \n",
    "        elif((str[i] >= 'A' and str[i] <= 'Z') or\n",
    "             (str[i] >= 'a' and str[i] <= 'z')): \n",
    "            alpha += str[i] \n",
    "        else: \n",
    "            special += str[i] \n",
    "  \n",
    "    print(alpha) \n",
    "    print(num ) \n",
    "    print(special) \n",
    "  \n",
    "# Driver code \n",
    "if __name__ == \"__main__\": \n",
    "      \n",
    "    str = \"Mobile123Needs21works45Land87user342\"\n",
    "    splitString(str) "
   ]
  },
  {
   "cell_type": "code",
   "execution_count": 7,
   "metadata": {},
   "outputs": [
    {
     "name": "stdout",
     "output_type": "stream",
     "text": [
      "['Mobile', '123', 'Needs', '21', 'works', '45', 'Land', '87', 'user', '342', '']\n",
      "sum of two digits num : 153\n",
      "sum of three digits num : 618\n"
     ]
    }
   ],
   "source": [
    "import re\n",
    "a = \"Mobile123Needs21works45Land87user342\"\n",
    "k = re.split('(\\d+)',a)\n",
    "print(k)\n",
    "n=0\n",
    "for i in range(len(k)):\n",
    "    if len(k[i])==2:\n",
    "        n= int(k[i])+n\n",
    "print(\"sum of two digits num :\",n)\n",
    "for i in range(len(k)):\n",
    "    if len(k[i])==3:\n",
    "        n= int(k[i])+n\n",
    "print(\"sum of three digits num :\",n)"
   ]
  },
  {
   "cell_type": "code",
   "execution_count": null,
   "metadata": {},
   "outputs": [],
   "source": [
    "# password encryption format -128 bytes()"
   ]
  },
  {
   "cell_type": "code",
   "execution_count": 36,
   "metadata": {},
   "outputs": [
    {
     "name": "stdout",
     "output_type": "stream",
     "text": [
      "!@@!!!@@@@\n",
      "!@!!@@@!!!!@@@@@\n",
      "!@!!@@@"
     ]
    }
   ],
   "source": [
    "#I/P abcd aabcde aabc\n",
    "#0/P ABCD AABCDE AABC\n",
    "#O/P !@@!!!@@@@  !@!!@@@!!!!@@@@@  !@!!@@@\n",
    "a = \"abcd aabcde aabc\"\n",
    "b = a.upper()\n",
    "ch = \"!\"\n",
    "for i in range(len(b)):\n",
    "    if ord(b[i]) != 32:\n",
    "        k =ord(b[i])-64\n",
    "        for j in range(k):\n",
    "            print(ch,end=\"\")\n",
    "        if ch==\"!\":\n",
    "            ch=\"@\"\n",
    "        else :\n",
    "            ch =\"!\"\n",
    "    else :\n",
    "        print()\n",
    "        ch = \"!\"\n",
    "        \n"
   ]
  },
  {
   "cell_type": "code",
   "execution_count": 76,
   "metadata": {},
   "outputs": [
    {
     "name": "stdout",
     "output_type": "stream",
     "text": [
      "ABBCCCDDDD"
     ]
    }
   ],
   "source": [
    "# i/p 1A2B3C4D\n",
    "# o/p ABBCCCDDD\n",
    "ip = \"1A2B3C4D\"\n",
    "for i in range(0,len(ip),2):\n",
    "    print(ip[i+1]*int(ip[i]),end=\"\")"
   ]
  },
  {
   "cell_type": "markdown",
   "metadata": {},
   "source": [
    "## OOPS in python\n",
    "- class : collection of data members and member function into single unit ids called class\n",
    "- object :\n",
    "- Inheretance"
   ]
  }
 ],
 "metadata": {
  "kernelspec": {
   "display_name": "Python 3",
   "language": "python",
   "name": "python3"
  },
  "language_info": {
   "codemirror_mode": {
    "name": "ipython",
    "version": 3
   },
   "file_extension": ".py",
   "mimetype": "text/x-python",
   "name": "python",
   "nbconvert_exporter": "python",
   "pygments_lexer": "ipython3",
   "version": "3.7.4"
  }
 },
 "nbformat": 4,
 "nbformat_minor": 2
}
