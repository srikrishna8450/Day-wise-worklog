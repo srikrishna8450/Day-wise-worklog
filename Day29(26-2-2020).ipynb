{
 "cells": [
  {
   "cell_type": "markdown",
   "metadata": {},
   "source": [
    "## Functional Progamming"
   ]
  },
  {
   "cell_type": "code",
   "execution_count": 1,
   "metadata": {},
   "outputs": [
    {
     "ename": "SyntaxError",
     "evalue": "invalid syntax (<ipython-input-1-e73924a2d39d>, line 1)",
     "output_type": "error",
     "traceback": [
      "\u001b[1;36m  File \u001b[1;32m\"<ipython-input-1-e73924a2d39d>\"\u001b[1;36m, line \u001b[1;32m1\u001b[0m\n\u001b[1;33m    vdef funName(<Parameters>):\u001b[0m\n\u001b[1;37m               ^\u001b[0m\n\u001b[1;31mSyntaxError\u001b[0m\u001b[1;31m:\u001b[0m invalid syntax\n"
     ]
    }
   ],
   "source": [
    "vdef funName(<Parameters>):\n",
    "    return"
   ]
  },
  {
   "cell_type": "code",
   "execution_count": null,
   "metadata": {},
   "outputs": [],
   "source": [
    "def test():\n",
    "    print(\"test() function...\")\n",
    "    return\n",
    "test() # Function without parameters  and without return value"
   ]
  },
  {
   "cell_type": "code",
   "execution_count": null,
   "metadata": {},
   "outputs": [],
   "source": [
    "def isTest():\n",
    "    return \"Dhyanahita\"\n",
    "isTest()"
   ]
  },
  {
   "cell_type": "code",
   "execution_count": 2,
   "metadata": {},
   "outputs": [
    {
     "data": {
      "text/plain": [
       "123"
      ]
     },
     "execution_count": 2,
     "metadata": {},
     "output_type": "execute_result"
    }
   ],
   "source": [
    "def isTestWork(x):\n",
    "    return x\n",
    "a =123\n",
    "isTestWork(a)"
   ]
  },
  {
   "cell_type": "code",
   "execution_count": 3,
   "metadata": {},
   "outputs": [
    {
     "data": {
      "text/plain": [
       "[1, 2, 3]"
      ]
     },
     "execution_count": 3,
     "metadata": {},
     "output_type": "execute_result"
    }
   ],
   "source": [
    "def isTestWork(x):\n",
    "    return x\n",
    "a=[1,2,3]\n",
    "isTestWork(a)"
   ]
  },
  {
   "cell_type": "code",
   "execution_count": 4,
   "metadata": {},
   "outputs": [
    {
     "name": "stdout",
     "output_type": "stream",
     "text": [
      "([1, 2, 3], <class 'list'>)\n"
     ]
    }
   ],
   "source": [
    "def isTestWork(x):\n",
    "    return x\n",
    "a=[1,2,3]\n",
    "print((isTestWork(a),type(a)))"
   ]
  },
  {
   "cell_type": "code",
   "execution_count": 5,
   "metadata": {},
   "outputs": [
    {
     "data": {
      "text/plain": [
       "list"
      ]
     },
     "execution_count": 5,
     "metadata": {},
     "output_type": "execute_result"
    }
   ],
   "source": [
    "def isTestWork(a):\n",
    "    return type(a)\n",
    "a=[1,2,3]\n",
    "isTestWork(a)"
   ]
  },
  {
   "cell_type": "markdown",
   "metadata": {},
   "source": [
    "### Coding Standards\n",
    "\n",
    "   - Variable name: num, num_test, numTest\n",
    "   - Fucntion name: fun1() fun_test funTest()\n",
    "   - Constructor name: init\n",
    "   - Class name: Demo() DemoAbc()\n",
    "   - import :import package name\n",
    "   - import : from packagename import fun1, fun2...."
   ]
  },
  {
   "cell_type": "markdown",
   "metadata": {},
   "source": [
    "##  Regular Expression\n",
    " - checking for number\n",
    " - che"
   ]
  },
  {
   "cell_type": "code",
   "execution_count": 6,
   "metadata": {},
   "outputs": [],
   "source": [
    "import re"
   ]
  },
  {
   "cell_type": "code",
   "execution_count": null,
   "metadata": {},
   "outputs": [],
   "source": []
  },
  {
   "cell_type": "code",
   "execution_count": null,
   "metadata": {},
   "outputs": [],
   "source": []
  },
  {
   "cell_type": "code",
   "execution_count": 7,
   "metadata": {},
   "outputs": [
    {
     "data": {
      "text/plain": [
       "True"
      ]
     },
     "execution_count": 7,
     "metadata": {},
     "output_type": "execute_result"
    }
   ],
   "source": [
    "# validate - DHS00120\n",
    "# DHS00120 - DHS00999\n",
    "def validate(n):\n",
    "    pattern = \"^[D][H][S][0][0][1-9][2-9][0-9]$\"\n",
    "    if re.match(pattern,n): \n",
    "        return True\n",
    "    return False\n",
    "validate(\"DHS00888\")"
   ]
  },
  {
   "cell_type": "code",
   "execution_count": 8,
   "metadata": {},
   "outputs": [
    {
     "data": {
      "text/plain": [
       "True"
      ]
     },
     "execution_count": 8,
     "metadata": {},
     "output_type": "execute_result"
    }
   ],
   "source": [
    "def mobile(n):\n",
    "    pattern = \"^[0-9][0-9][0-9][0-9][0-9][0-9][0-9][0-9][0-9][0-9]$\"\n",
    "    if re.match(pattern,n): \n",
    "        return True\n",
    "    return False\n",
    "mobile(\"6988776644\")"
   ]
  },
  {
   "cell_type": "code",
   "execution_count": 9,
   "metadata": {},
   "outputs": [
    {
     "data": {
      "text/plain": [
       "True"
      ]
     },
     "execution_count": 9,
     "metadata": {},
     "output_type": "execute_result"
    }
   ],
   "source": [
    "def mobile(n):\n",
    "    pattern = \"^[0-9]{10}$\"\n",
    "    if re.match(pattern,n): \n",
    "        return True\n",
    "    return False\n",
    "mobile(\"6988776644\")"
   ]
  },
  {
   "cell_type": "code",
   "execution_count": 10,
   "metadata": {},
   "outputs": [
    {
     "data": {
      "text/plain": [
       "True"
      ]
     },
     "execution_count": 10,
     "metadata": {},
     "output_type": "execute_result"
    }
   ],
   "source": [
    "def mobile(n):\n",
    "    pattern = \"^[0][0-9][0-9][0-9][0-9][0-9][0-9][0-9][0-9][0-9][0-9]$\"\n",
    "    if re.match(pattern,n): \n",
    "        return True\n",
    "    return False\n",
    "mobile(\"09988776644\")"
   ]
  },
  {
   "cell_type": "code",
   "execution_count": 11,
   "metadata": {},
   "outputs": [
    {
     "data": {
      "text/plain": [
       "True"
      ]
     },
     "execution_count": 11,
     "metadata": {},
     "output_type": "execute_result"
    }
   ],
   "source": [
    "def mobile(n):\n",
    "    pattern = \"^[0][0-9]{10}$\"\n",
    "    if re.match(pattern,n): \n",
    "        return True\n",
    "    return False\n",
    "mobile(\"09988776644\")"
   ]
  },
  {
   "cell_type": "code",
   "execution_count": 12,
   "metadata": {},
   "outputs": [
    {
     "data": {
      "text/plain": [
       "True"
      ]
     },
     "execution_count": 12,
     "metadata": {},
     "output_type": "execute_result"
    }
   ],
   "source": [
    "def mobile(n):\n",
    "    pattern = \"[+][9][1][-][0-9][0-9][0-9][0-9][0-9][0-9][0-9][0-9][0-9][0-9]$\"\n",
    "    if re.match(pattern,n): \n",
    "        return True\n",
    "    return False\n",
    "mobile(\"+91-6988776644\")"
   ]
  },
  {
   "cell_type": "code",
   "execution_count": 13,
   "metadata": {},
   "outputs": [
    {
     "data": {
      "text/plain": [
       "True"
      ]
     },
     "execution_count": 13,
     "metadata": {},
     "output_type": "execute_result"
    }
   ],
   "source": [
    "def mobile(n):\n",
    "    pattern = \"[+][9][1][-][0-9]{10}$\"\n",
    "    if re.match(pattern,n): \n",
    "        return True\n",
    "    return False\n",
    "mobile(\"+91-6988776644\")"
   ]
  },
  {
   "cell_type": "code",
   "execution_count": 14,
   "metadata": {},
   "outputs": [
    {
     "name": "stdout",
     "output_type": "stream",
     "text": [
      "True\n",
      "True\n",
      "False\n"
     ]
    },
    {
     "name": "stderr",
     "output_type": "stream",
     "text": [
      "C:\\Users\\Ravi\\Anaconda3\\lib\\site-packages\\ipykernel_launcher.py:6: FutureWarning: Possible nested set at position 2\n",
      "  \n"
     ]
    }
   ],
   "source": [
    "# user name validate\n",
    "# should need to contains one upper \n",
    "# case, 6 lower case m,1 digit\n",
    "def validate(n):\n",
    "    pattern = \"^[[A-Z]{1}|[a-z]{6}|[0-9]{1}]$\"\n",
    "    if re.match(pattern,n): \n",
    "        return True\n",
    "    return False\n",
    "print(validate(\"Acddsh9\"))\n",
    "print(validate(\"fmaskf7D\"))\n",
    "print(validate(\"sd8sdfKa\"))"
   ]
  },
  {
   "cell_type": "code",
   "execution_count": null,
   "metadata": {},
   "outputs": [],
   "source": []
  }
 ],
 "metadata": {
  "kernelspec": {
   "display_name": "Python 3",
   "language": "python",
   "name": "python3"
  },
  "language_info": {
   "codemirror_mode": {
    "name": "ipython",
    "version": 3
   },
   "file_extension": ".py",
   "mimetype": "text/x-python",
   "name": "python",
   "nbconvert_exporter": "python",
   "pygments_lexer": "ipython3",
   "version": "3.7.4"
  }
 },
 "nbformat": 4,
 "nbformat_minor": 2
}
