{
 "cells": [
  {
   "cell_type": "code",
   "execution_count": 1,
   "metadata": {},
   "outputs": [],
   "source": [
    "from sklearn.neighbors import KNeighborsClassifier"
   ]
  },
  {
   "cell_type": "code",
   "execution_count": null,
   "metadata": {},
   "outputs": [],
   "source": []
  },
  {
   "cell_type": "code",
   "execution_count": 2,
   "metadata": {},
   "outputs": [],
   "source": [
    "import pandas as pd\n",
    "import numpy as np\n",
    "import seaborn as sns\n",
    "import matplotlib.pyplot as plt"
   ]
  },
  {
   "cell_type": "code",
   "execution_count": 3,
   "metadata": {},
   "outputs": [
    {
     "data": {
      "text/plain": [
       "'0.21.3'"
      ]
     },
     "execution_count": 3,
     "metadata": {},
     "output_type": "execute_result"
    }
   ],
   "source": [
    "import sklearn\n",
    "sklearn.__version__"
   ]
  },
  {
   "cell_type": "markdown",
   "metadata": {},
   "source": [
    "### Generating data for KNN\n",
    "- general values for class 0\n",
    "   - general x1 values within the range 0 to 50\n",
    "   - general x2 values within the range 1 to 50\n",
    "   - create a 2d array with x1 values as 0 th element and x2 values as 1st element 3rd value is zero\n",
    "   - o/p[[2,5,0],[3,10,0][24,12,0]\n",
    "- Genernal values for class 1\n",
    "   - general x1 values within the range 50 to 100\n",
    "   - general x2 values within the range 1 to 50\n",
    "   - create a 2d array with x1 values as 0 the element and x2 values as 1st element 3rd element is one\n",
    "- create  a 2d array wich consists of both classes data\n",
    "- create a dataframe from this data with added column"
   ]
  },
  {
   "cell_type": "code",
   "execution_count": 4,
   "metadata": {},
   "outputs": [
    {
     "data": {
      "text/plain": [
       "(array([ 9, 36, 15,  0, 49, 28, 25, 29, 48, 29, 49,  8,  9,  0, 42, 40, 36,\n",
       "        16, 36, 47, 11, 24, 43, 33,  8, 36, 14, 49, 13,  5, 13, 25, 13, 28,\n",
       "        22, 30, 30, 25, 12,  1, 31, 36, 27, 18, 29, 13, 22, 23, 30, 11]),\n",
       " array([29, 11, 25, 10, 16, 19, 17,  8, 25, 12, 18, 47,  8, 12, 29, 34, 21,\n",
       "        33, 25, 45,  6,  5,  8, 25, 25, 45, 35, 41, 16, 14, 25, 16,  7, 22,\n",
       "        43, 23, 12, 49, 13, 29, 33, 16, 45, 41, 43, 46, 44, 34, 46, 41]))"
      ]
     },
     "execution_count": 4,
     "metadata": {},
     "output_type": "execute_result"
    }
   ],
   "source": [
    "np.random.seed(10)\n",
    "x1 =np.random.randint(0,50,50)\n",
    "x2 =np.random.randint(1,50,50)\n",
    "x1,x2"
   ]
  },
  {
   "cell_type": "markdown",
   "metadata": {},
   "source": [
    "o/p --[[9,29],[36,11],....[11,41]]"
   ]
  },
  {
   "cell_type": "code",
   "execution_count": 5,
   "metadata": {},
   "outputs": [],
   "source": [
    "x1_2d = np.expand_dims(x1,1)\n",
    "x2_2d = np.expand_dims(x2,1)\n",
    "y_2d = np.expand_dims(np.zeros(50,dtype=int),1)"
   ]
  },
  {
   "cell_type": "code",
   "execution_count": 6,
   "metadata": {},
   "outputs": [
    {
     "data": {
      "text/plain": [
       "array([[ 9, 36, 15,  0, 49, 28, 25, 29, 48, 29, 49,  8,  9,  0, 42, 40,\n",
       "        36, 16, 36, 47, 11, 24, 43, 33,  8, 36, 14, 49, 13,  5, 13, 25,\n",
       "        13, 28, 22, 30, 30, 25, 12,  1, 31, 36, 27, 18, 29, 13, 22, 23,\n",
       "        30, 11],\n",
       "       [29, 11, 25, 10, 16, 19, 17,  8, 25, 12, 18, 47,  8, 12, 29, 34,\n",
       "        21, 33, 25, 45,  6,  5,  8, 25, 25, 45, 35, 41, 16, 14, 25, 16,\n",
       "         7, 22, 43, 23, 12, 49, 13, 29, 33, 16, 45, 41, 43, 46, 44, 34,\n",
       "        46, 41]])"
      ]
     },
     "execution_count": 6,
     "metadata": {},
     "output_type": "execute_result"
    }
   ],
   "source": [
    "np.vstack((x1,x2))"
   ]
  },
  {
   "cell_type": "code",
   "execution_count": 7,
   "metadata": {},
   "outputs": [
    {
     "data": {
      "text/plain": [
       "array([[ 9, 29,  0],\n",
       "       [36, 11,  0],\n",
       "       [15, 25,  0],\n",
       "       [ 0, 10,  0],\n",
       "       [49, 16,  0],\n",
       "       [28, 19,  0],\n",
       "       [25, 17,  0],\n",
       "       [29,  8,  0],\n",
       "       [48, 25,  0],\n",
       "       [29, 12,  0],\n",
       "       [49, 18,  0],\n",
       "       [ 8, 47,  0],\n",
       "       [ 9,  8,  0],\n",
       "       [ 0, 12,  0],\n",
       "       [42, 29,  0],\n",
       "       [40, 34,  0],\n",
       "       [36, 21,  0],\n",
       "       [16, 33,  0],\n",
       "       [36, 25,  0],\n",
       "       [47, 45,  0],\n",
       "       [11,  6,  0],\n",
       "       [24,  5,  0],\n",
       "       [43,  8,  0],\n",
       "       [33, 25,  0],\n",
       "       [ 8, 25,  0],\n",
       "       [36, 45,  0],\n",
       "       [14, 35,  0],\n",
       "       [49, 41,  0],\n",
       "       [13, 16,  0],\n",
       "       [ 5, 14,  0],\n",
       "       [13, 25,  0],\n",
       "       [25, 16,  0],\n",
       "       [13,  7,  0],\n",
       "       [28, 22,  0],\n",
       "       [22, 43,  0],\n",
       "       [30, 23,  0],\n",
       "       [30, 12,  0],\n",
       "       [25, 49,  0],\n",
       "       [12, 13,  0],\n",
       "       [ 1, 29,  0],\n",
       "       [31, 33,  0],\n",
       "       [36, 16,  0],\n",
       "       [27, 45,  0],\n",
       "       [18, 41,  0],\n",
       "       [29, 43,  0],\n",
       "       [13, 46,  0],\n",
       "       [22, 44,  0],\n",
       "       [23, 34,  0],\n",
       "       [30, 46,  0],\n",
       "       [11, 41,  0]])"
      ]
     },
     "execution_count": 7,
     "metadata": {},
     "output_type": "execute_result"
    }
   ],
   "source": [
    "d0=np.hstack((x1_2d,x2_2d,y_2d))\n",
    "d0"
   ]
  },
  {
   "cell_type": "code",
   "execution_count": 8,
   "metadata": {},
   "outputs": [
    {
     "data": {
      "text/plain": [
       "array([ 9, 36, 15,  0, 49, 28, 25, 29, 48, 29, 49,  8,  9,  0, 42, 40, 36,\n",
       "       16, 36, 47, 11, 24, 43, 33,  8, 36, 14, 49, 13,  5, 13, 25, 13, 28,\n",
       "       22, 30, 30, 25, 12,  1, 31, 36, 27, 18, 29, 13, 22, 23, 30, 11, 29,\n",
       "       11, 25, 10, 16, 19, 17,  8, 25, 12, 18, 47,  8, 12, 29, 34, 21, 33,\n",
       "       25, 45,  6,  5,  8, 25, 25, 45, 35, 41, 16, 14, 25, 16,  7, 22, 43,\n",
       "       23, 12, 49, 13, 29, 33, 16, 45, 41, 43, 46, 44, 34, 46, 41])"
      ]
     },
     "execution_count": 8,
     "metadata": {},
     "output_type": "execute_result"
    }
   ],
   "source": [
    "np.hstack((x1,x2))"
   ]
  },
  {
   "cell_type": "code",
   "execution_count": 9,
   "metadata": {},
   "outputs": [
    {
     "data": {
      "text/plain": [
       "array([[58,  3,  1],\n",
       "       [62, 43,  1],\n",
       "       [55, 33,  1],\n",
       "       [50, 38,  1],\n",
       "       [78,  8,  1],\n",
       "       [77, 25,  1],\n",
       "       [57, 38,  1],\n",
       "       [61, 46,  1],\n",
       "       [71, 20,  1],\n",
       "       [97, 49,  1],\n",
       "       [79, 41,  1],\n",
       "       [67, 30,  1],\n",
       "       [95, 13,  1],\n",
       "       [81, 25,  1],\n",
       "       [73, 47,  1],\n",
       "       [82, 13,  1],\n",
       "       [60, 34,  1],\n",
       "       [65,  3,  1],\n",
       "       [54, 25,  1],\n",
       "       [91, 45,  1],\n",
       "       [89, 43,  1],\n",
       "       [87, 18,  1],\n",
       "       [69, 24,  1],\n",
       "       [94, 30,  1],\n",
       "       [63, 35,  1],\n",
       "       [79, 24,  1],\n",
       "       [65, 19,  1],\n",
       "       [88, 27,  1],\n",
       "       [65, 27,  1],\n",
       "       [99, 17,  1],\n",
       "       [51, 14,  1],\n",
       "       [81, 27,  1],\n",
       "       [82, 33,  1],\n",
       "       [71,  7,  1],\n",
       "       [76,  5,  1],\n",
       "       [84, 29,  1],\n",
       "       [61, 21,  1],\n",
       "       [51, 36,  1],\n",
       "       [90, 40,  1],\n",
       "       [56, 29,  1],\n",
       "       [91,  6,  1],\n",
       "       [84,  1,  1],\n",
       "       [90, 10,  1],\n",
       "       [72, 49,  1],\n",
       "       [90, 21,  1],\n",
       "       [65, 47,  1],\n",
       "       [78, 39,  1],\n",
       "       [85, 36,  1],\n",
       "       [54, 15,  1],\n",
       "       [57, 19,  1]])"
      ]
     },
     "execution_count": 9,
     "metadata": {},
     "output_type": "execute_result"
    }
   ],
   "source": [
    "np.random.seed(15)\n",
    "x1 =np.random.randint(50,100,50)\n",
    "x2 =np.random.randint(1,50,50)\n",
    "x1_2d = np.expand_dims(x1,1)\n",
    "x2_2d = np.expand_dims(x2,1)\n",
    "y_2d = np.expand_dims(np.ones(50,dtype=int),1)\n",
    "d1=np.hstack((x1_2d,x2_2d,y_2d))\n",
    "d1"
   ]
  },
  {
   "cell_type": "code",
   "execution_count": 10,
   "metadata": {},
   "outputs": [
    {
     "data": {
      "text/plain": [
       "array([[ 9, 29,  0],\n",
       "       [36, 11,  0],\n",
       "       [15, 25,  0],\n",
       "       [ 0, 10,  0],\n",
       "       [49, 16,  0],\n",
       "       [28, 19,  0],\n",
       "       [25, 17,  0],\n",
       "       [29,  8,  0],\n",
       "       [48, 25,  0],\n",
       "       [29, 12,  0],\n",
       "       [49, 18,  0],\n",
       "       [ 8, 47,  0],\n",
       "       [ 9,  8,  0],\n",
       "       [ 0, 12,  0],\n",
       "       [42, 29,  0],\n",
       "       [40, 34,  0],\n",
       "       [36, 21,  0],\n",
       "       [16, 33,  0],\n",
       "       [36, 25,  0],\n",
       "       [47, 45,  0],\n",
       "       [11,  6,  0],\n",
       "       [24,  5,  0],\n",
       "       [43,  8,  0],\n",
       "       [33, 25,  0],\n",
       "       [ 8, 25,  0],\n",
       "       [36, 45,  0],\n",
       "       [14, 35,  0],\n",
       "       [49, 41,  0],\n",
       "       [13, 16,  0],\n",
       "       [ 5, 14,  0],\n",
       "       [13, 25,  0],\n",
       "       [25, 16,  0],\n",
       "       [13,  7,  0],\n",
       "       [28, 22,  0],\n",
       "       [22, 43,  0],\n",
       "       [30, 23,  0],\n",
       "       [30, 12,  0],\n",
       "       [25, 49,  0],\n",
       "       [12, 13,  0],\n",
       "       [ 1, 29,  0],\n",
       "       [31, 33,  0],\n",
       "       [36, 16,  0],\n",
       "       [27, 45,  0],\n",
       "       [18, 41,  0],\n",
       "       [29, 43,  0],\n",
       "       [13, 46,  0],\n",
       "       [22, 44,  0],\n",
       "       [23, 34,  0],\n",
       "       [30, 46,  0],\n",
       "       [11, 41,  0]])"
      ]
     },
     "execution_count": 10,
     "metadata": {},
     "output_type": "execute_result"
    }
   ],
   "source": [
    "d0"
   ]
  },
  {
   "cell_type": "code",
   "execution_count": 11,
   "metadata": {},
   "outputs": [
    {
     "data": {
      "text/plain": [
       "array([[58,  3,  1],\n",
       "       [62, 43,  1],\n",
       "       [55, 33,  1],\n",
       "       [50, 38,  1],\n",
       "       [78,  8,  1],\n",
       "       [77, 25,  1],\n",
       "       [57, 38,  1],\n",
       "       [61, 46,  1],\n",
       "       [71, 20,  1],\n",
       "       [97, 49,  1],\n",
       "       [79, 41,  1],\n",
       "       [67, 30,  1],\n",
       "       [95, 13,  1],\n",
       "       [81, 25,  1],\n",
       "       [73, 47,  1],\n",
       "       [82, 13,  1],\n",
       "       [60, 34,  1],\n",
       "       [65,  3,  1],\n",
       "       [54, 25,  1],\n",
       "       [91, 45,  1],\n",
       "       [89, 43,  1],\n",
       "       [87, 18,  1],\n",
       "       [69, 24,  1],\n",
       "       [94, 30,  1],\n",
       "       [63, 35,  1],\n",
       "       [79, 24,  1],\n",
       "       [65, 19,  1],\n",
       "       [88, 27,  1],\n",
       "       [65, 27,  1],\n",
       "       [99, 17,  1],\n",
       "       [51, 14,  1],\n",
       "       [81, 27,  1],\n",
       "       [82, 33,  1],\n",
       "       [71,  7,  1],\n",
       "       [76,  5,  1],\n",
       "       [84, 29,  1],\n",
       "       [61, 21,  1],\n",
       "       [51, 36,  1],\n",
       "       [90, 40,  1],\n",
       "       [56, 29,  1],\n",
       "       [91,  6,  1],\n",
       "       [84,  1,  1],\n",
       "       [90, 10,  1],\n",
       "       [72, 49,  1],\n",
       "       [90, 21,  1],\n",
       "       [65, 47,  1],\n",
       "       [78, 39,  1],\n",
       "       [85, 36,  1],\n",
       "       [54, 15,  1],\n",
       "       [57, 19,  1]])"
      ]
     },
     "execution_count": 11,
     "metadata": {},
     "output_type": "execute_result"
    }
   ],
   "source": [
    "d1"
   ]
  },
  {
   "cell_type": "code",
   "execution_count": 12,
   "metadata": {},
   "outputs": [
    {
     "data": {
      "text/plain": [
       "array([[ 9, 29,  0],\n",
       "       [36, 11,  0],\n",
       "       [15, 25,  0],\n",
       "       [ 0, 10,  0],\n",
       "       [49, 16,  0],\n",
       "       [28, 19,  0],\n",
       "       [25, 17,  0],\n",
       "       [29,  8,  0],\n",
       "       [48, 25,  0],\n",
       "       [29, 12,  0],\n",
       "       [49, 18,  0],\n",
       "       [ 8, 47,  0],\n",
       "       [ 9,  8,  0],\n",
       "       [ 0, 12,  0],\n",
       "       [42, 29,  0],\n",
       "       [40, 34,  0],\n",
       "       [36, 21,  0],\n",
       "       [16, 33,  0],\n",
       "       [36, 25,  0],\n",
       "       [47, 45,  0],\n",
       "       [11,  6,  0],\n",
       "       [24,  5,  0],\n",
       "       [43,  8,  0],\n",
       "       [33, 25,  0],\n",
       "       [ 8, 25,  0],\n",
       "       [36, 45,  0],\n",
       "       [14, 35,  0],\n",
       "       [49, 41,  0],\n",
       "       [13, 16,  0],\n",
       "       [ 5, 14,  0],\n",
       "       [13, 25,  0],\n",
       "       [25, 16,  0],\n",
       "       [13,  7,  0],\n",
       "       [28, 22,  0],\n",
       "       [22, 43,  0],\n",
       "       [30, 23,  0],\n",
       "       [30, 12,  0],\n",
       "       [25, 49,  0],\n",
       "       [12, 13,  0],\n",
       "       [ 1, 29,  0],\n",
       "       [31, 33,  0],\n",
       "       [36, 16,  0],\n",
       "       [27, 45,  0],\n",
       "       [18, 41,  0],\n",
       "       [29, 43,  0],\n",
       "       [13, 46,  0],\n",
       "       [22, 44,  0],\n",
       "       [23, 34,  0],\n",
       "       [30, 46,  0],\n",
       "       [11, 41,  0],\n",
       "       [58,  3,  1],\n",
       "       [62, 43,  1],\n",
       "       [55, 33,  1],\n",
       "       [50, 38,  1],\n",
       "       [78,  8,  1],\n",
       "       [77, 25,  1],\n",
       "       [57, 38,  1],\n",
       "       [61, 46,  1],\n",
       "       [71, 20,  1],\n",
       "       [97, 49,  1],\n",
       "       [79, 41,  1],\n",
       "       [67, 30,  1],\n",
       "       [95, 13,  1],\n",
       "       [81, 25,  1],\n",
       "       [73, 47,  1],\n",
       "       [82, 13,  1],\n",
       "       [60, 34,  1],\n",
       "       [65,  3,  1],\n",
       "       [54, 25,  1],\n",
       "       [91, 45,  1],\n",
       "       [89, 43,  1],\n",
       "       [87, 18,  1],\n",
       "       [69, 24,  1],\n",
       "       [94, 30,  1],\n",
       "       [63, 35,  1],\n",
       "       [79, 24,  1],\n",
       "       [65, 19,  1],\n",
       "       [88, 27,  1],\n",
       "       [65, 27,  1],\n",
       "       [99, 17,  1],\n",
       "       [51, 14,  1],\n",
       "       [81, 27,  1],\n",
       "       [82, 33,  1],\n",
       "       [71,  7,  1],\n",
       "       [76,  5,  1],\n",
       "       [84, 29,  1],\n",
       "       [61, 21,  1],\n",
       "       [51, 36,  1],\n",
       "       [90, 40,  1],\n",
       "       [56, 29,  1],\n",
       "       [91,  6,  1],\n",
       "       [84,  1,  1],\n",
       "       [90, 10,  1],\n",
       "       [72, 49,  1],\n",
       "       [90, 21,  1],\n",
       "       [65, 47,  1],\n",
       "       [78, 39,  1],\n",
       "       [85, 36,  1],\n",
       "       [54, 15,  1],\n",
       "       [57, 19,  1]])"
      ]
     },
     "execution_count": 12,
     "metadata": {},
     "output_type": "execute_result"
    }
   ],
   "source": [
    "data = np.vstack((d0,d1))\n",
    "data"
   ]
  },
  {
   "cell_type": "code",
   "execution_count": 41,
   "metadata": {},
   "outputs": [
    {
     "data": {
      "text/html": [
       "<div>\n",
       "<style scoped>\n",
       "    .dataframe tbody tr th:only-of-type {\n",
       "        vertical-align: middle;\n",
       "    }\n",
       "\n",
       "    .dataframe tbody tr th {\n",
       "        vertical-align: top;\n",
       "    }\n",
       "\n",
       "    .dataframe thead th {\n",
       "        text-align: right;\n",
       "    }\n",
       "</style>\n",
       "<table border=\"1\" class=\"dataframe\">\n",
       "  <thead>\n",
       "    <tr style=\"text-align: right;\">\n",
       "      <th></th>\n",
       "      <th>x1</th>\n",
       "      <th>x2</th>\n",
       "      <th>y</th>\n",
       "    </tr>\n",
       "  </thead>\n",
       "  <tbody>\n",
       "    <tr>\n",
       "      <td>0</td>\n",
       "      <td>9</td>\n",
       "      <td>29</td>\n",
       "      <td>0</td>\n",
       "    </tr>\n",
       "    <tr>\n",
       "      <td>1</td>\n",
       "      <td>36</td>\n",
       "      <td>11</td>\n",
       "      <td>0</td>\n",
       "    </tr>\n",
       "    <tr>\n",
       "      <td>2</td>\n",
       "      <td>15</td>\n",
       "      <td>25</td>\n",
       "      <td>0</td>\n",
       "    </tr>\n",
       "    <tr>\n",
       "      <td>3</td>\n",
       "      <td>0</td>\n",
       "      <td>10</td>\n",
       "      <td>0</td>\n",
       "    </tr>\n",
       "    <tr>\n",
       "      <td>4</td>\n",
       "      <td>49</td>\n",
       "      <td>16</td>\n",
       "      <td>0</td>\n",
       "    </tr>\n",
       "  </tbody>\n",
       "</table>\n",
       "</div>"
      ],
      "text/plain": [
       "   x1  x2  y\n",
       "0   9  29  0\n",
       "1  36  11  0\n",
       "2  15  25  0\n",
       "3   0  10  0\n",
       "4  49  16  0"
      ]
     },
     "execution_count": 41,
     "metadata": {},
     "output_type": "execute_result"
    }
   ],
   "source": [
    "df = pd.DataFrame(data,columns=[\"x1\",\"x2\",\"y\"])\n",
    "df.head()"
   ]
  },
  {
   "cell_type": "code",
   "execution_count": 14,
   "metadata": {},
   "outputs": [
    {
     "data": {
      "text/plain": [
       "<matplotlib.collections.PathCollection at 0x2339fc6dc48>"
      ]
     },
     "execution_count": 14,
     "metadata": {},
     "output_type": "execute_result"
    },
    {
     "data": {
      "image/png": "[encoded data removed]",
      "text/plain": [
       "<Figure size 432x288 with 1 Axes>"
      ]
     },
     "metadata": {
      "needs_background": "light"
     },
     "output_type": "display_data"
    }
   ],
   "source": [
    "plt.scatter(df[\"x1\"][:50],df[\"x2\"][:50],color=\"r\")\n",
    "plt.scatter(df[\"x1\"][50:],df[\"x2\"][50:],color=\"g\")"
   ]
  },
  {
   "cell_type": "code",
   "execution_count": 15,
   "metadata": {},
   "outputs": [
    {
     "data": {
      "text/plain": [
       "0     29\n",
       "1     11\n",
       "2     25\n",
       "3     10\n",
       "4     16\n",
       "5     19\n",
       "6     17\n",
       "7      8\n",
       "8     25\n",
       "9     12\n",
       "10    18\n",
       "11    47\n",
       "12     8\n",
       "13    12\n",
       "14    29\n",
       "15    34\n",
       "16    21\n",
       "17    33\n",
       "18    25\n",
       "19    45\n",
       "20     6\n",
       "21     5\n",
       "22     8\n",
       "23    25\n",
       "24    25\n",
       "25    45\n",
       "26    35\n",
       "27    41\n",
       "28    16\n",
       "29    14\n",
       "30    25\n",
       "31    16\n",
       "32     7\n",
       "33    22\n",
       "34    43\n",
       "35    23\n",
       "36    12\n",
       "37    49\n",
       "38    13\n",
       "39    29\n",
       "40    33\n",
       "41    16\n",
       "42    45\n",
       "43    41\n",
       "44    43\n",
       "45    46\n",
       "46    44\n",
       "47    34\n",
       "48    46\n",
       "49    41\n",
       "Name: x2, dtype: int32"
      ]
     },
     "execution_count": 15,
     "metadata": {},
     "output_type": "execute_result"
    }
   ],
   "source": [
    "df[\"x2\"][:50]"
   ]
  },
  {
   "cell_type": "markdown",
   "metadata": {},
   "source": [
    "seperated the features and outcomes"
   ]
  },
  {
   "cell_type": "code",
   "execution_count": 16,
   "metadata": {},
   "outputs": [
    {
     "data": {
      "text/plain": [
       "(0, x1     9\n",
       " x2    29\n",
       " Name: 0, dtype: int32)"
      ]
     },
     "execution_count": 16,
     "metadata": {},
     "output_type": "execute_result"
    }
   ],
   "source": [
    "outcome = df[\"y\"]\n",
    "features = df[[\"x1\",\"x2\"]]\n",
    "# features =df.drop(\"y\",axis=1)\n",
    "outcome[0],features.iloc[0]"
   ]
  },
  {
   "cell_type": "code",
   "execution_count": 17,
   "metadata": {},
   "outputs": [
    {
     "data": {
      "text/html": [
       "<div>\n",
       "<style scoped>\n",
       "    .dataframe tbody tr th:only-of-type {\n",
       "        vertical-align: middle;\n",
       "    }\n",
       "\n",
       "    .dataframe tbody tr th {\n",
       "        vertical-align: top;\n",
       "    }\n",
       "\n",
       "    .dataframe thead th {\n",
       "        text-align: right;\n",
       "    }\n",
       "</style>\n",
       "<table border=\"1\" class=\"dataframe\">\n",
       "  <thead>\n",
       "    <tr style=\"text-align: right;\">\n",
       "      <th></th>\n",
       "      <th>x1</th>\n",
       "      <th>x2</th>\n",
       "    </tr>\n",
       "  </thead>\n",
       "  <tbody>\n",
       "    <tr>\n",
       "      <td>0</td>\n",
       "      <td>9</td>\n",
       "      <td>29</td>\n",
       "    </tr>\n",
       "    <tr>\n",
       "      <td>1</td>\n",
       "      <td>36</td>\n",
       "      <td>11</td>\n",
       "    </tr>\n",
       "    <tr>\n",
       "      <td>2</td>\n",
       "      <td>15</td>\n",
       "      <td>25</td>\n",
       "    </tr>\n",
       "    <tr>\n",
       "      <td>3</td>\n",
       "      <td>0</td>\n",
       "      <td>10</td>\n",
       "    </tr>\n",
       "    <tr>\n",
       "      <td>4</td>\n",
       "      <td>49</td>\n",
       "      <td>16</td>\n",
       "    </tr>\n",
       "    <tr>\n",
       "      <td>...</td>\n",
       "      <td>...</td>\n",
       "      <td>...</td>\n",
       "    </tr>\n",
       "    <tr>\n",
       "      <td>95</td>\n",
       "      <td>65</td>\n",
       "      <td>47</td>\n",
       "    </tr>\n",
       "    <tr>\n",
       "      <td>96</td>\n",
       "      <td>78</td>\n",
       "      <td>39</td>\n",
       "    </tr>\n",
       "    <tr>\n",
       "      <td>97</td>\n",
       "      <td>85</td>\n",
       "      <td>36</td>\n",
       "    </tr>\n",
       "    <tr>\n",
       "      <td>98</td>\n",
       "      <td>54</td>\n",
       "      <td>15</td>\n",
       "    </tr>\n",
       "    <tr>\n",
       "      <td>99</td>\n",
       "      <td>57</td>\n",
       "      <td>19</td>\n",
       "    </tr>\n",
       "  </tbody>\n",
       "</table>\n",
       "<p>100 rows × 2 columns</p>\n",
       "</div>"
      ],
      "text/plain": [
       "    x1  x2\n",
       "0    9  29\n",
       "1   36  11\n",
       "2   15  25\n",
       "3    0  10\n",
       "4   49  16\n",
       "..  ..  ..\n",
       "95  65  47\n",
       "96  78  39\n",
       "97  85  36\n",
       "98  54  15\n",
       "99  57  19\n",
       "\n",
       "[100 rows x 2 columns]"
      ]
     },
     "execution_count": 17,
     "metadata": {},
     "output_type": "execute_result"
    }
   ],
   "source": [
    "features"
   ]
  },
  {
   "cell_type": "code",
   "execution_count": 18,
   "metadata": {},
   "outputs": [],
   "source": [
    "import math"
   ]
  },
  {
   "cell_type": "code",
   "execution_count": 19,
   "metadata": {},
   "outputs": [],
   "source": [
    "def Eucledian_distance(p1,p2):\n",
    "    return math.sqrt((p1[0]-p2[0])**2 + (p1[1]-p2[1])**2 )"
   ]
  },
  {
   "cell_type": "code",
   "execution_count": 20,
   "metadata": {},
   "outputs": [
    {
     "data": {
      "text/plain": [
       "5.0"
      ]
     },
     "execution_count": 20,
     "metadata": {},
     "output_type": "execute_result"
    }
   ],
   "source": [
    "Eucledian_distance((4,3),(0,0))"
   ]
  },
  {
   "cell_type": "code",
   "execution_count": null,
   "metadata": {},
   "outputs": [],
   "source": []
  },
  {
   "cell_type": "code",
   "execution_count": 21,
   "metadata": {},
   "outputs": [],
   "source": [
    "def knearest_points(p,d):\n",
    "    \"\"\"p - new data point\n",
    "    d-all the features as numpy array\n",
    "    k- no.of neighbors\n",
    "    return the k nearest neighbors\"\"\"\n",
    "    # create a an empty list to store distances\n",
    "    distances = []\n",
    "    for row in d:\n",
    "        distances.append(Eucledian_distance(row,p))\n",
    "    return distances "
   ]
  },
  {
   "cell_type": "code",
   "execution_count": 22,
   "metadata": {},
   "outputs": [
    {
     "name": "stdout",
     "output_type": "stream",
     "text": [
      "[ 9 29]\n",
      "[36 11]\n",
      "[15 25]\n",
      "[ 0 10]\n",
      "[49 16]\n",
      "[28 19]\n",
      "[25 17]\n",
      "[29  8]\n",
      "[48 25]\n",
      "[29 12]\n",
      "[49 18]\n",
      "[ 8 47]\n",
      "[9 8]\n",
      "[ 0 12]\n",
      "[42 29]\n",
      "[40 34]\n",
      "[36 21]\n",
      "[16 33]\n",
      "[36 25]\n",
      "[47 45]\n",
      "[11  6]\n",
      "[24  5]\n",
      "[43  8]\n",
      "[33 25]\n",
      "[ 8 25]\n",
      "[36 45]\n",
      "[14 35]\n",
      "[49 41]\n",
      "[13 16]\n",
      "[ 5 14]\n",
      "[13 25]\n",
      "[25 16]\n",
      "[13  7]\n",
      "[28 22]\n",
      "[22 43]\n",
      "[30 23]\n",
      "[30 12]\n",
      "[25 49]\n",
      "[12 13]\n",
      "[ 1 29]\n",
      "[31 33]\n",
      "[36 16]\n",
      "[27 45]\n",
      "[18 41]\n",
      "[29 43]\n",
      "[13 46]\n",
      "[22 44]\n",
      "[23 34]\n",
      "[30 46]\n",
      "[11 41]\n",
      "[58  3]\n",
      "[62 43]\n",
      "[55 33]\n",
      "[50 38]\n",
      "[78  8]\n",
      "[77 25]\n",
      "[57 38]\n",
      "[61 46]\n",
      "[71 20]\n",
      "[97 49]\n",
      "[79 41]\n",
      "[67 30]\n",
      "[95 13]\n",
      "[81 25]\n",
      "[73 47]\n",
      "[82 13]\n",
      "[60 34]\n",
      "[65  3]\n",
      "[54 25]\n",
      "[91 45]\n",
      "[89 43]\n",
      "[87 18]\n",
      "[69 24]\n",
      "[94 30]\n",
      "[63 35]\n",
      "[79 24]\n",
      "[65 19]\n",
      "[88 27]\n",
      "[65 27]\n",
      "[99 17]\n",
      "[51 14]\n",
      "[81 27]\n",
      "[82 33]\n",
      "[71  7]\n",
      "[76  5]\n",
      "[84 29]\n",
      "[61 21]\n",
      "[51 36]\n",
      "[90 40]\n",
      "[56 29]\n",
      "[91  6]\n",
      "[84  1]\n",
      "[90 10]\n",
      "[72 49]\n",
      "[90 21]\n",
      "[65 47]\n",
      "[78 39]\n",
      "[85 36]\n",
      "[54 15]\n",
      "[57 19]\n"
     ]
    }
   ],
   "source": [
    "for row in features.values:\n",
    "    print(row)\n",
    "    "
   ]
  },
  {
   "cell_type": "code",
   "execution_count": 23,
   "metadata": {},
   "outputs": [
    {
     "data": {
      "text/plain": [
       "[6.4031242374328485,\n",
       " 38.600518131237564,\n",
       " 13.45362404707371,\n",
       " 24.515301344262525,\n",
       " 47.53945729601885,\n",
       " 27.459060435491963,\n",
       " 26.248809496813376,\n",
       " 35.38361202590826,\n",
       " 43.93176527297759,\n",
       " 32.55764119219941,\n",
       " 46.8187996428785,\n",
       " 13.341664064126334,\n",
       " 26.30589287593181,\n",
       " 22.561028345356956,\n",
       " 37.33630940518894,\n",
       " 35.0,\n",
       " 33.61547262794322,\n",
       " 11.045361017187261,\n",
       " 32.28002478313795,\n",
       " 43.41658669218482,\n",
       " 28.635642126552707,\n",
       " 34.66987164671943,\n",
       " 46.04345773288535,\n",
       " 29.410882339705484,\n",
       " 9.486832980505138,\n",
       " 32.89376840679705,\n",
       " 9.055385138137417,\n",
       " 44.553338819890925,\n",
       " 19.697715603592208,\n",
       " 20.0,\n",
       " 12.041594578792296,\n",
       " 26.90724809414742,\n",
       " 28.160255680657446,\n",
       " 25.942243542145693,\n",
       " 19.235384061671343,\n",
       " 27.313000567495326,\n",
       " 33.301651610693426,\n",
       " 25.0,\n",
       " 22.135943621178654,\n",
       " 6.4031242374328485,\n",
       " 26.019223662515376,\n",
       " 35.84689665786984,\n",
       " 24.596747752497688,\n",
       " 14.7648230602334,\n",
       " 25.632011235952593,\n",
       " 14.422205101855956,\n",
       " 19.72308292331602,\n",
       " 18.0,\n",
       " 27.730849247724095,\n",
       " 9.219544457292887,\n",
       " 61.40032573203501,\n",
       " 57.706152185014034,\n",
       " 50.00999900019995,\n",
       " 45.17742799230607,\n",
       " 77.4919350642375,\n",
       " 72.56031973468694,\n",
       " 52.15361924162119,\n",
       " 57.271284253105414,\n",
       " 67.468511173732,\n",
       " 93.2148056909416,\n",
       " 74.33034373659252,\n",
       " 62.12889826803627,\n",
       " 92.41753080449618,\n",
       " 76.53103945458993,\n",
       " 69.2314957226839,\n",
       " 79.81227975693966,\n",
       " 55.0,\n",
       " 67.53517601961218,\n",
       " 49.8196748283246,\n",
       " 86.70063436907483,\n",
       " 84.48076704197234,\n",
       " 83.54639429682169,\n",
       " 64.77653896280658,\n",
       " 89.08984229416954,\n",
       " 58.008620049092706,\n",
       " 74.67261881037788,\n",
       " 61.84658438426491,\n",
       " 83.2946576918352,\n",
       " 60.40695324215582,\n",
       " 95.524865872714,\n",
       " 50.15974481593781,\n",
       " 76.32168761236873,\n",
       " 77.00649323271382,\n",
       " 71.30918594402827,\n",
       " 76.69419795525604,\n",
       " 79.1580697086532,\n",
       " 57.48912940721924,\n",
       " 46.04345773288535,\n",
       " 85.21150157109074,\n",
       " 51.24451190127583,\n",
       " 90.44335243676011,\n",
       " 85.61541917201598,\n",
       " 88.32326986700618,\n",
       " 68.65857557508748,\n",
       " 85.98837130682264,\n",
       " 61.39218191268331,\n",
       " 73.17103251970687,\n",
       " 80.02499609497022,\n",
       " 52.55473337388365,\n",
       " 54.120236510939236]"
      ]
     },
     "execution_count": 23,
     "metadata": {},
     "output_type": "execute_result"
    }
   ],
   "source": [
    "knearest_points((5,34),features.values)"
   ]
  },
  {
   "cell_type": "code",
   "execution_count": 24,
   "metadata": {},
   "outputs": [],
   "source": [
    "def knearest_points(p,d,k):\n",
    "    \"\"\"p - new data point\n",
    "    d-all the features as numpy array\n",
    "    k- no.of neighbors\n",
    "    return the k nearest neighbors\"\"\"\n",
    "    # create a an empty list to store distances\n",
    "    distances = []\n",
    "    for row in d:\n",
    "        distances.append(Eucledian_distance(row,p))\n",
    "        #convert the list to numpy array\n",
    "    distances =np.array(distances)\n",
    "#sort the numpy array get the indices based on sorted\n",
    "# values\n",
    "# use the indices to get the k nearest neighbor\n",
    "    return d[distances.argsort()[:k]]"
   ]
  },
  {
   "cell_type": "code",
   "execution_count": 25,
   "metadata": {},
   "outputs": [
    {
     "data": {
      "text/plain": [
       "array([[ 9, 29],\n",
       "       [ 1, 29],\n",
       "       [14, 35],\n",
       "       [11, 41]])"
      ]
     },
     "execution_count": 25,
     "metadata": {},
     "output_type": "execute_result"
    }
   ],
   "source": [
    "knearest_points((5,34),features.values,4)"
   ]
  },
  {
   "cell_type": "code",
   "execution_count": 26,
   "metadata": {},
   "outputs": [],
   "source": [
    "near_4 = knearest_points((5,34),features.values,4)"
   ]
  },
  {
   "cell_type": "code",
   "execution_count": 27,
   "metadata": {},
   "outputs": [
    {
     "data": {
      "text/plain": [
       "array([ 9,  1, 14, 11])"
      ]
     },
     "execution_count": 27,
     "metadata": {},
     "output_type": "execute_result"
    }
   ],
   "source": [
    "near_4[:,0]"
   ]
  },
  {
   "cell_type": "code",
   "execution_count": 28,
   "metadata": {},
   "outputs": [
    {
     "data": {
      "text/plain": [
       "<matplotlib.collections.PathCollection at 0x2339fd41a48>"
      ]
     },
     "execution_count": 28,
     "metadata": {},
     "output_type": "execute_result"
    },
    {
     "data": {
      "image/png": "[encoded data removed]",
      "text/plain": [
       "<Figure size 432x288 with 1 Axes>"
      ]
     },
     "metadata": {
      "needs_background": "light"
     },
     "output_type": "display_data"
    }
   ],
   "source": [
    "plt.scatter(df[\"x1\"][:50],df[\"x2\"][:50],color=\"r\")\n",
    "plt.scatter(df[\"x1\"][50:],df[\"x2\"][50:],color=\"g\")\n",
    "plt.plot(5,34,\"b+\")\n",
    "plt.scatter(near_4[:,0],near_4[:,1],color=\"b\")"
   ]
  },
  {
   "cell_type": "code",
   "execution_count": 29,
   "metadata": {},
   "outputs": [],
   "source": [
    "def knearest_points(p,d,k):\n",
    "    '''p - new data point\n",
    "    d - all the features as numpy array\n",
    "    k - no of neighbors\n",
    "    returns the k nearest neighbors indices'''\n",
    "    # create an empty list to store distances\n",
    "    distances = []\n",
    "    for row in d:\n",
    "        distances.append(Eucledian_distance(row,p))\n",
    "    # convert the list to numpy array\n",
    "    distances = np.array(distances)\n",
    "    # sort the numpy array get the indices based on sorted\n",
    "    # values\n",
    "    # use the indices to get the k nearest neighbors\n",
    "    return distances.argsort()[:k]"
   ]
  },
  {
   "cell_type": "code",
   "execution_count": 30,
   "metadata": {},
   "outputs": [
    {
     "data": {
      "text/plain": [
       "array([ 0, 39, 26, 49, 24, 17, 30, 11,  2, 45, 43, 47, 34, 28, 46, 29, 38,\n",
       "       13,  3, 42, 37, 44, 33, 40,  6, 12, 31, 35,  5, 48], dtype=int64)"
      ]
     },
     "execution_count": 30,
     "metadata": {},
     "output_type": "execute_result"
    }
   ],
   "source": [
    "knearest_points((5,34),features.values,30)"
   ]
  },
  {
   "cell_type": "code",
   "execution_count": 31,
   "metadata": {},
   "outputs": [],
   "source": [
    "ind = knearest_points((47,25),features.values,10)"
   ]
  },
  {
   "cell_type": "code",
   "execution_count": 32,
   "metadata": {},
   "outputs": [
    {
     "data": {
      "text/plain": [
       "array([[48, 25],\n",
       "       [42, 29],\n",
       "       [54, 25],\n",
       "       [49, 18],\n",
       "       [49, 16],\n",
       "       [56, 29],\n",
       "       [36, 25],\n",
       "       [55, 33],\n",
       "       [40, 34],\n",
       "       [57, 19]])"
      ]
     },
     "execution_count": 32,
     "metadata": {},
     "output_type": "execute_result"
    }
   ],
   "source": [
    "features.values[ind]"
   ]
  },
  {
   "cell_type": "code",
   "execution_count": 33,
   "metadata": {},
   "outputs": [
    {
     "data": {
      "text/plain": [
       "8     0\n",
       "14    0\n",
       "68    1\n",
       "10    0\n",
       "4     0\n",
       "89    1\n",
       "18    0\n",
       "52    1\n",
       "15    0\n",
       "99    1\n",
       "Name: y, dtype: int32"
      ]
     },
     "execution_count": 33,
     "metadata": {},
     "output_type": "execute_result"
    }
   ],
   "source": [
    "outcome[ind]"
   ]
  },
  {
   "cell_type": "code",
   "execution_count": 34,
   "metadata": {},
   "outputs": [
    {
     "data": {
      "text/plain": [
       "0    6\n",
       "1    4\n",
       "Name: y, dtype: int64"
      ]
     },
     "execution_count": 34,
     "metadata": {},
     "output_type": "execute_result"
    }
   ],
   "source": [
    "outcome[ind].value_counts()"
   ]
  },
  {
   "cell_type": "code",
   "execution_count": 35,
   "metadata": {},
   "outputs": [
    {
     "data": {
      "text/plain": [
       "0"
      ]
     },
     "execution_count": 35,
     "metadata": {},
     "output_type": "execute_result"
    }
   ],
   "source": [
    "outcome[ind].value_counts().index[0]"
   ]
  },
  {
   "cell_type": "code",
   "execution_count": 36,
   "metadata": {},
   "outputs": [
    {
     "data": {
      "text/plain": [
       "array([4, 0, 2, 1, 3], dtype=int64)"
      ]
     },
     "execution_count": 36,
     "metadata": {},
     "output_type": "execute_result"
    }
   ],
   "source": [
    "l = [45,67,45,78,43]\n",
    "l = np.array(l)\n",
    "l.argsort()"
   ]
  },
  {
   "cell_type": "code",
   "execution_count": 37,
   "metadata": {},
   "outputs": [
    {
     "data": {
      "text/plain": [
       "array([45, 67, 45, 78, 43])"
      ]
     },
     "execution_count": 37,
     "metadata": {},
     "output_type": "execute_result"
    }
   ],
   "source": [
    "l"
   ]
  },
  {
   "cell_type": "code",
   "execution_count": 38,
   "metadata": {},
   "outputs": [
    {
     "name": "stdout",
     "output_type": "stream",
     "text": [
      "[ 9 29]\n"
     ]
    }
   ],
   "source": [
    "for row in features.values:\n",
    "    print(row)\n",
    "    break"
   ]
  },
  {
   "cell_type": "code",
   "execution_count": 39,
   "metadata": {},
   "outputs": [],
   "source": [
    "near_4 = knearest_points((5,34),features.values,4)"
   ]
  },
  {
   "cell_type": "code",
   "execution_count": 40,
   "metadata": {},
   "outputs": [
    {
     "ename": "IndexError",
     "evalue": "too many indices for array",
     "output_type": "error",
     "traceback": [
      "\u001b[1;31m---------------------------------------------------------------------------\u001b[0m",
      "\u001b[1;31mIndexError\u001b[0m                                Traceback (most recent call last)",
      "\u001b[1;32m<ipython-input-40-6498c7c25980>\u001b[0m in \u001b[0;36m<module>\u001b[1;34m\u001b[0m\n\u001b[1;32m----> 1\u001b[1;33m \u001b[0mnear_4\u001b[0m\u001b[1;33m[\u001b[0m\u001b[1;33m:\u001b[0m\u001b[1;33m,\u001b[0m\u001b[1;36m0\u001b[0m\u001b[1;33m]\u001b[0m\u001b[1;33m\u001b[0m\u001b[1;33m\u001b[0m\u001b[0m\n\u001b[0m",
      "\u001b[1;31mIndexError\u001b[0m: too many indices for array"
     ]
    }
   ],
   "source": [
    "near_4[:,0]"
   ]
  },
  {
   "cell_type": "code",
   "execution_count": null,
   "metadata": {},
   "outputs": [],
   "source": [
    "plt.scatter(df['x1'][:50],df['x2'][:50],color='r')\n",
    "plt.scatter(df['x1'][50:],df['x2'][50:],color='g')\n",
    "plt.plot(5,34,'bo')\n",
    "plt.scatter(near_4[:,0],near_4[:,1],color='y')"
   ]
  },
  {
   "cell_type": "code",
   "execution_count": null,
   "metadata": {},
   "outputs": [],
   "source": []
  },
  {
   "cell_type": "code",
   "execution_count": null,
   "metadata": {},
   "outputs": [],
   "source": []
  },
  {
   "cell_type": "code",
   "execution_count": null,
   "metadata": {},
   "outputs": [],
   "source": [
    "ind = knearest_points((47,25),features.values,10)\n",
    "features.values[ind]\n",
    "outcome[ind]\n",
    "outcome[ind].value_count()\n",
    "outcome[ind].value_count().index[0]"
   ]
  },
  {
   "cell_type": "code",
   "execution_count": null,
   "metadata": {},
   "outputs": [],
   "source": [
    "def output(p,k,features,outcome):\n",
    "    ind = knearest_points(p,features.values,k)\n",
    "    return outcome[ind].value_counts().index[0]\n",
    "output((34,49),10,features,outcome)"
   ]
  },
  {
   "cell_type": "code",
   "execution_count": null,
   "metadata": {},
   "outputs": [],
   "source": [
    "df.to_csv(\"data_knn\")"
   ]
  },
  {
   "cell_type": "code",
   "execution_count": null,
   "metadata": {},
   "outputs": [],
   "source": []
  }
 ],
 "metadata": {
  "kernelspec": {
   "display_name": "Python 3",
   "language": "python",
   "name": "python3"
  },
  "language_info": {
   "codemirror_mode": {
    "name": "ipython",
    "version": 3
   },
   "file_extension": ".py",
   "mimetype": "text/x-python",
   "name": "python",
   "nbconvert_exporter": "python",
   "pygments_lexer": "ipython3",
   "version": "3.7.4"
  }
 },
 "nbformat": 4,
 "nbformat_minor": 2
}
