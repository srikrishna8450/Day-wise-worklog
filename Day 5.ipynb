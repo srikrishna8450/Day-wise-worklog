{
 "cells": [
  {
   "cell_type": "markdown",
   "metadata": {},
   "source": [
    "#### Filies \n",
    "- Write the file data \n",
    "- Append the file data \n",
    "- read the file data\n",
    "- word count \n",
    "- Character count\n",
    "- some spcified examples on characters and words "
   ]
  },
  {
   "cell_type": "markdown",
   "metadata": {},
   "source": [
    "#### File modes \n",
    "- **W** (if the file is not exists then it will create file and will put some to the file),if the file is alraedy exists then it is rewrite the existing file data\n",
    "- **a**\n",
    "\n",
    "- **r**"
   ]
  },
  {
   "cell_type": "code",
   "execution_count": 4,
   "metadata": {},
   "outputs": [
    {
     "name": "stdout",
     "output_type": "stream",
     "text": [
      "file is created and data has written to the file\n"
     ]
    }
   ],
   "source": [
    "def createFile(fileName):\n",
    "    f=open(fileName,'w')\n",
    "    for i in range(10):\n",
    "        f.write('this line\\n')\n",
    "        #print('this line\\n')\n",
    "    print('file is created and data has written to the file')\n",
    "    return\n",
    "createFile('file1.txt')"
   ]
  },
  {
   "cell_type": "code",
   "execution_count": 6,
   "metadata": {},
   "outputs": [
    {
     "name": "stdout",
     "output_type": "stream",
     "text": [
      "Data is appended\n"
     ]
    }
   ],
   "source": [
    "def testFileData(fileName):\n",
    "    f= open(fileName,'w')\n",
    "    f.write ('new line data\\n')\n",
    "    \n",
    "    return\n",
    "testFileData('file1.txt')"
   ]
  },
  {
   "cell_type": "code",
   "execution_count": 7,
   "metadata": {},
   "outputs": [
    {
     "name": "stdout",
     "output_type": "stream",
     "text": [
      "Data is appended\n"
     ]
    }
   ],
   "source": [
    "def appendData(fileName):\n",
    "    f=open(fileName,'a')\n",
    "    f.write('Dhyanahita org\\n')\n",
    "    print('data is appended')\n",
    "    return\n",
    "testFileData('file1.txt')"
   ]
  },
  {
   "cell_type": "code",
   "execution_count": 8,
   "metadata": {},
   "outputs": [
    {
     "name": "stdout",
     "output_type": "stream",
     "text": [
      "new line data\n",
      "\n"
     ]
    }
   ],
   "source": [
    "def readFileData(fileName):\n",
    "    f=open(fileName,'r')\n",
    "    if f.mode == 'r':\n",
    "        x = f.read() #var string\n",
    "        print(x)\n",
    "    else:\n",
    "        print('Error msg')\n",
    "    return\n",
    "readFileData('file1.txt')"
   ]
  },
  {
   "cell_type": "code",
   "execution_count": 10,
   "metadata": {},
   "outputs": [
    {
     "data": {
      "text/plain": [
       "3"
      ]
     },
     "execution_count": 10,
     "metadata": {},
     "output_type": "execute_result"
    }
   ],
   "source": [
    "# word count\n",
    "def wordCount(fileName):\n",
    "    li = []\n",
    "    f = open(fileName, 'r')\n",
    "    if f.mode == 'r':\n",
    "        x = f.read()\n",
    "        li = x.split()\n",
    "    return len(li)\n",
    "wordCount('file1.txt')\n",
    "    "
   ]
  },
  {
   "cell_type": "code",
   "execution_count": 11,
   "metadata": {},
   "outputs": [
    {
     "name": "stdout",
     "output_type": "stream",
     "text": [
      "['dhyanahita', 'org', 'pragahti', 'nagar', 'hyderabad']\n",
      "5\n"
     ]
    }
   ],
   "source": [
    "li =[]\n",
    "s = \"dhyanahita org pragahti nagar hyderabad\"\n",
    "li = s.split()\n",
    "print(li)\n",
    "print(len(li))"
   ]
  },
  {
   "cell_type": "code",
   "execution_count": 14,
   "metadata": {},
   "outputs": [
    {
     "data": {
      "text/plain": [
       "1"
      ]
     },
     "execution_count": 14,
     "metadata": {},
     "output_type": "execute_result"
    }
   ],
   "source": [
    "def specificaWordCount(fileName,word):\n",
    "    li = []\n",
    "    f = open(fileName, 'r')\n",
    "    if f.mode == 'r':\n",
    "        x= f.read()\n",
    "        li =x.split()\n",
    "    cnt = li.count(word)\n",
    "    return cnt\n",
    "specificaWordCount('file1.txt','line')"
   ]
  },
  {
   "cell_type": "code",
   "execution_count": 15,
   "metadata": {},
   "outputs": [
    {
     "data": {
      "text/plain": [
       "14"
      ]
     },
     "execution_count": 15,
     "metadata": {},
     "output_type": "execute_result"
    }
   ],
   "source": [
    "#char count\n",
    "def charCount(fileName):\n",
    "    li = []\n",
    "    f = open(fileName, 'r')\n",
    "    if f.mode == 'r':\n",
    "        x = f.read()\n",
    "        li = list(x)\n",
    "    return len(li)\n",
    "charCount('file1.txt')\n",
    "    \n",
    "    "
   ]
  },
  {
   "cell_type": "code",
   "execution_count": null,
   "metadata": {},
   "outputs": [],
   "source": [
    "# "
   ]
  }
 ],
 "metadata": {
  "kernelspec": {
   "display_name": "Python 3",
   "language": "python",
   "name": "python3"
  },
  "language_info": {
   "codemirror_mode": {
    "name": "ipython",
    "version": 3
   },
   "file_extension": ".py",
   "mimetype": "text/x-python",
   "name": "python",
   "nbconvert_exporter": "python",
   "pygments_lexer": "ipython3",
   "version": "3.7.4"
  }
 },
 "nbformat": 4,
 "nbformat_minor": 2
}
