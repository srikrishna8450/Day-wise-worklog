{
 "cells": [
  {
   "cell_type": "markdown",
   "metadata": {},
   "source": [
    "#### Dictonary\n"
   ]
  },
  {
   "cell_type": "code",
   "execution_count": 1,
   "metadata": {},
   "outputs": [
    {
     "name": "stdout",
     "output_type": "stream",
     "text": [
      "{1: 'Krishna', 2: 'Ram', 3: 'Sai', 4: 'Dev', 5: 'Vikki'}\n",
      "Ram\n",
      "{1: 'Krishna', 2: 'Ram', 4: 'Dev', 5: 'Vikki'}\n"
     ]
    }
   ],
   "source": [
    "dict={1:'Krishna',2:'Ram',3:'Sai',4:'Dev',5:'Vikki'}\n",
    "print(dict)\n",
    "print(dict[2])\n",
    "dict.keys()\n",
    "dict.values()\n",
    "dict.pop(3)\n",
    "print(dict)\n",
    "    \n",
    "        \n",
    "    "
   ]
  },
  {
   "cell_type": "code",
   "execution_count": null,
   "metadata": {},
   "outputs": [],
   "source": [
    "dict={}\n",
    "l=input()\n",
    "l=l.split('')\n",
    "for i in l:\n",
    "    t=i.split(' ')\n",
    "    dict[t[0]]=t[1]\n",
    "print(dict)"
   ]
  },
  {
   "cell_type": "code",
   "execution_count": 21,
   "metadata": {},
   "outputs": [
    {
     "name": "stdout",
     "output_type": "stream",
     "text": [
      "to day is good day\n",
      "{}\n"
     ]
    }
   ],
   "source": [
    "d1={}\n",
    "l=input()\n",
    "l=l.split(',')\n",
    "for i in l:\n",
    "    t=i.split(':')\n",
    "    \n",
    "print(d1)"
   ]
  },
  {
   "cell_type": "markdown",
   "metadata": {},
   "source": [
    "## tuple()"
   ]
  },
  {
   "cell_type": "code",
   "execution_count": 23,
   "metadata": {},
   "outputs": [
    {
     "name": "stdout",
     "output_type": "stream",
     "text": [
      "1\n",
      "2\n",
      "3\n",
      "krishna\n",
      "sai\n",
      "ravi\n"
     ]
    }
   ],
   "source": [
    "tpl=(1,2,3,\"krishna\",\"sai\",\"ravi\",)\n",
    "for i in tpl:\n",
    "    \n",
    "    print(i)"
   ]
  },
  {
   "cell_type": "code",
   "execution_count": 32,
   "metadata": {},
   "outputs": [
    {
     "name": "stdout",
     "output_type": "stream",
     "text": [
      "['sandeep', 'krishna', 'ravi', 'ram']\n"
     ]
    }
   ],
   "source": [
    "t1=()\n",
    "t1=(\"sandeep\")\n",
    "t2=(\"sandeep\",\"krishna\",\"ravi\",\"ram\")\n",
    "print(list(t2))"
   ]
  },
  {
   "cell_type": "code",
   "execution_count": 2,
   "metadata": {},
   "outputs": [
    {
     "name": "stdout",
     "output_type": "stream",
     "text": [
      "(1, 1, 2, 2, 3, 2, 3, 4, 5, 6)\n"
     ]
    }
   ],
   "source": [
    "tpl1=(1,1,2,2,3)\n",
    "tpl2=(2,3,4,5,6)\n",
    "tpl=tpl1+tpl2\n",
    "print(tpl)"
   ]
  },
  {
   "cell_type": "code",
   "execution_count": 3,
   "metadata": {},
   "outputs": [
    {
     "name": "stdout",
     "output_type": "stream",
     "text": [
      "True\n"
     ]
    }
   ],
   "source": [
    "print('s'in 'sai')"
   ]
  },
  {
   "cell_type": "code",
   "execution_count": 5,
   "metadata": {},
   "outputs": [
    {
     "ename": "NameError",
     "evalue": "name 't1' is not defined",
     "output_type": "error",
     "traceback": [
      "\u001b[1;31m---------------------------------------------------------------------------\u001b[0m",
      "\u001b[1;31mNameError\u001b[0m                                 Traceback (most recent call last)",
      "\u001b[1;32m<ipython-input-5-4dd9d76d8163>\u001b[0m in \u001b[0;36m<module>\u001b[1;34m\u001b[0m\n\u001b[1;32m----> 1\u001b[1;33m \u001b[0mprint\u001b[0m\u001b[1;33m(\u001b[0m\u001b[0mt1\u001b[0m\u001b[1;33m.\u001b[0m\u001b[0mindex\u001b[0m\u001b[1;33m(\u001b[0m\u001b[1;36m1\u001b[0m\u001b[1;33m)\u001b[0m\u001b[1;33m)\u001b[0m\u001b[1;33m\u001b[0m\u001b[1;33m\u001b[0m\u001b[0m\n\u001b[0m\u001b[0;32m      2\u001b[0m \u001b[0mprint\u001b[0m\u001b[1;33m(\u001b[0m\u001b[0mt1\u001b[0m\u001b[1;33m.\u001b[0m\u001b[0mcount\u001b[0m\u001b[1;33m(\u001b[0m\u001b[1;36m6\u001b[0m\u001b[1;33m)\u001b[0m\u001b[1;33m)\u001b[0m\u001b[1;33m\u001b[0m\u001b[1;33m\u001b[0m\u001b[0m\n",
      "\u001b[1;31mNameError\u001b[0m: name 't1' is not defined"
     ]
    }
   ],
   "source": [
    "print(t1.index(1))\n",
    "print(t1.count(6))"
   ]
  },
  {
   "cell_type": "code",
   "execution_count": 6,
   "metadata": {},
   "outputs": [
    {
     "name": "stdout",
     "output_type": "stream",
     "text": [
      "((1, 2), 4)\n"
     ]
    }
   ],
   "source": [
    "#nested tuple\n",
    "tpl =((1,2),4)\n",
    "print(tpl)"
   ]
  },
  {
   "cell_type": "code",
   "execution_count": 12,
   "metadata": {},
   "outputs": [
    {
     "name": "stdout",
     "output_type": "stream",
     "text": [
      "(1, 2, [2, 3, 10, 5])\n"
     ]
    }
   ],
   "source": [
    "#nested tuple\n",
    "tpl=(1,2,[2,3,4,5])\n",
    "tpl[2][2]=10\n",
    "print(tpl)"
   ]
  },
  {
   "cell_type": "code",
   "execution_count": 31,
   "metadata": {},
   "outputs": [
    {
     "data": {
      "text/plain": [
       "[1, 2, 3, 4, 5, 6, 7, 8, 9, 10]"
      ]
     },
     "execution_count": 31,
     "metadata": {},
     "output_type": "execute_result"
    }
   ],
   "source": [
    "tpl=(1,2,3,4,5,6,7,8,9,10)\n",
    "# for i in tpl:\n",
    "#     print(list(i**2))\n",
    "list(tpl)"
   ]
  },
  {
   "cell_type": "markdown",
   "metadata": {},
   "source": [
    "### tuple constructer "
   ]
  },
  {
   "cell_type": "code",
   "execution_count": 5,
   "metadata": {},
   "outputs": [
    {
     "name": "stdout",
     "output_type": "stream",
     "text": [
      "u\n"
     ]
    }
   ],
   "source": [
    "tpl=(\"krish\",\"ravi\",\"raju\",\"ramu\")[3][-1]\n",
    "print(tpl)"
   ]
  },
  {
   "cell_type": "code",
   "execution_count": 9,
   "metadata": {},
   "outputs": [
    {
     "name": "stdout",
     "output_type": "stream",
     "text": [
      "ramu\n"
     ]
    }
   ],
   "source": [
    "tpl=(\"krish\",\"ravi\",(\"raju\",\"ramu\"))[2][1]\n",
    "print(tpl)"
   ]
  },
  {
   "cell_type": "code",
   "execution_count": 24,
   "metadata": {},
   "outputs": [
    {
     "name": "stdout",
     "output_type": "stream",
     "text": [
      "[1, 3, 5, 7, 9]\n"
     ]
    }
   ],
   "source": [
    "lst=[1,2,3,4,5,6,7,8,9,10][::2]\n",
    "print(lst)"
   ]
  },
  {
   "cell_type": "code",
   "execution_count": 22,
   "metadata": {},
   "outputs": [
    {
     "name": "stdout",
     "output_type": "stream",
     "text": [
      "(0, 2, 4, 6, 8, 10)\n"
     ]
    }
   ],
   "source": [
    "lst=[0,1,2,3,4,5,6,7,8,9,10][::2]\n",
    "print(tuple(lst))"
   ]
  },
  {
   "cell_type": "code",
   "execution_count": 25,
   "metadata": {},
   "outputs": [
    {
     "name": "stdout",
     "output_type": "stream",
     "text": [
      "(1, 3, 5, 7, 9)\n"
     ]
    }
   ],
   "source": [
    "tpl=(1,2,3,4,5,6,7,8,9,10)\n",
    "tpl1=tpl[::2]\n",
    "print(tpl1)"
   ]
  },
  {
   "cell_type": "code",
   "execution_count": 28,
   "metadata": {},
   "outputs": [
    {
     "name": "stdout",
     "output_type": "stream",
     "text": [
      "[1, 3, 5, 7, 9]\n"
     ]
    }
   ],
   "source": [
    "tpl=(1,2,3,4,5,6,7,8,9,10)\n",
    "tpl1=tpl[::2]\n",
    "print(list(tpl1))"
   ]
  },
  {
   "cell_type": "code",
   "execution_count": 45,
   "metadata": {},
   "outputs": [
    {
     "name": "stdout",
     "output_type": "stream",
     "text": [
      " \n",
      " \n",
      " \n",
      "krisna\n",
      "ravi\n",
      "ram\n"
     ]
    }
   ],
   "source": [
    "list=[\"sai\",\"sree\",\"sanvi\",\"krisna\",\"ravi\",\"ram\"]\n",
    "for i in list:\n",
    "    if i[0]== \"s\":\n",
    "        print(\" \")\n",
    "    else:\n",
    "        print(i)"
   ]
  },
  {
   "cell_type": "code",
   "execution_count": 53,
   "metadata": {},
   "outputs": [
    {
     "name": "stdout",
     "output_type": "stream",
     "text": [
      "\n",
      "ai\n",
      "ree\n",
      "anvikri\n",
      "naraviram"
     ]
    }
   ],
   "source": [
    "list=[\"sai\",\"sree\",\"sanvi\",\"krisna\",\"ravi\",\"ram\"]\n",
    "for i in list:\n",
    "    for j in i:\n",
    "        if j==\"s\":\n",
    "            print()\n",
    "        else:\n",
    "            print(j, end=\"\")"
   ]
  },
  {
   "cell_type": "code",
   "execution_count": 3,
   "metadata": {},
   "outputs": [
    {
     "name": "stdout",
     "output_type": "stream",
     "text": [
      "ai\n",
      "bhaskara\n",
      "ree\n",
      "raju\n",
      "anvi\n",
      "krisna\n",
      "ravi\n",
      "ram\n"
     ]
    }
   ],
   "source": [
    "list=[\"sai\",\"bhaskara\",\"sree\",\"raju\",\"sanvi\",\"krisna\",\"ravi\",\"ram\"]\n",
    "for i in list:\n",
    "    if i[0]==\"s\" or i[0]==\"S\":\n",
    "        print(i[1:])\n",
    "    else:\n",
    "        print(i)\n",
    "    \n",
    "        \n",
    "        "
   ]
  },
  {
   "cell_type": "code",
   "execution_count": null,
   "metadata": {},
   "outputs": [],
   "source": [
    "lst=[(10,20,40),]"
   ]
  },
  {
   "cell_type": "code",
   "execution_count": 83,
   "metadata": {},
   "outputs": [
    {
     "name": "stdout",
     "output_type": "stream",
     "text": [
      "HELLO\n"
     ]
    }
   ],
   "source": [
    "a=1\n",
    "a+=1\n",
    "if a:\n",
    "    print(\"HELLO\")\n",
    "else:\n",
    "    print(\"hello\")"
   ]
  },
  {
   "cell_type": "code",
   "execution_count": 16,
   "metadata": {},
   "outputs": [
    {
     "ename": "SyntaxError",
     "evalue": "keyword can't be an expression (<ipython-input-16-942e673df309>, line 3)",
     "output_type": "error",
     "traceback": [
      "\u001b[1;36m  File \u001b[1;32m\"<ipython-input-16-942e673df309>\"\u001b[1;36m, line \u001b[1;32m3\u001b[0m\n\u001b[1;33m    print(i[3]=100)\u001b[0m\n\u001b[1;37m         ^\u001b[0m\n\u001b[1;31mSyntaxError\u001b[0m\u001b[1;31m:\u001b[0m keyword can't be an expression\n"
     ]
    }
   ],
   "source": [
    "\n",
    "                             "
   ]
  },
  {
   "cell_type": "code",
   "execution_count": null,
   "metadata": {},
   "outputs": [],
   "source": []
  },
  {
   "cell_type": "code",
   "execution_count": null,
   "metadata": {},
   "outputs": [],
   "source": []
  },
  {
   "cell_type": "code",
   "execution_count": null,
   "metadata": {},
   "outputs": [],
   "source": []
  },
  {
   "cell_type": "code",
   "execution_count": null,
   "metadata": {},
   "outputs": [],
   "source": []
  }
 ],
 "metadata": {
  "kernelspec": {
   "display_name": "Python 3",
   "language": "python",
   "name": "python3"
  },
  "language_info": {
   "codemirror_mode": {
    "name": "ipython",
    "version": 3
   },
   "file_extension": ".py",
   "mimetype": "text/x-python",
   "name": "python",
   "nbconvert_exporter": "python",
   "pygments_lexer": "ipython3",
   "version": "3.7.4"
  }
 },
 "nbformat": 4,
 "nbformat_minor": 2
}
