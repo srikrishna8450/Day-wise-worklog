{
 "cells": [
  {
   "cell_type": "code",
   "execution_count": null,
   "metadata": {},
   "outputs": [],
   "source": [
    "# Factorial of a num\n",
    "n=int(input(\":\" ))\n",
    "fact = 1\n",
    "for i in range(1, n+1):\n",
    "    fact=fact*i\n",
    "print(fact)"
   ]
  },
  {
   "cell_type": "code",
   "execution_count": null,
   "metadata": {},
   "outputs": [],
   "source": [
    "# Factorial with function\n",
    "def fact(num):\n",
    "    if num==0 or num==1:\n",
    "        return 1\n",
    "    else:\n",
    "        return num*fact(num-1)\n",
    "num=int(input())\n",
    "result=fact(5)\n",
    "print(result)\n"
   ]
  },
  {
   "cell_type": "code",
   "execution_count": null,
   "metadata": {},
   "outputs": [],
   "source": [
    "\n",
    "    "
   ]
  },
  {
   "cell_type": "code",
   "execution_count": null,
   "metadata": {},
   "outputs": [],
   "source": [
    "#Divisible by 2 and 3 but not 4\n",
    "n = int(input())\n",
    "if (n%2==0 and n%3==0 and n%4!=0):\n",
    "    print(n, \"Divisible by 2 and 3 but not 4 \")\n",
    "else:\n",
    "    print(\"not possible\")\n",
    "    "
   ]
  },
  {
   "cell_type": "code",
   "execution_count": null,
   "metadata": {},
   "outputs": [],
   "source": [
    "#Armstrong num\n",
    "n = int(input(\"Enter a num: \"))\n",
    "for i in range(1, n+1):\n",
    "    num=i\n",
    "    result=0\n",
    "    n=len(str(i))\n",
    "    while(i!=0):\n",
    "        digit=i%10\n",
    "        result=result+digit**n\n",
    "        i=i//10\n",
    "    if num==result:\n",
    "        print(num)\n",
    "        "
   ]
  },
  {
   "cell_type": "code",
   "execution_count": null,
   "metadata": {},
   "outputs": [],
   "source": [
    "# prime or not\n",
    "lower= int(input(\"enter a num:\"))\n",
    "upper= int(input(\"enter a num:\"))\n",
    "for num in range(lower, upper+1):\n",
    "    if num>1:\n",
    "        for j in range(2, num):\n",
    "            if(num%j==0):\n",
    "                break\n",
    "        else:\n",
    "            print(num)\n",
    "        "
   ]
  },
  {
   "cell_type": "code",
   "execution_count": 2,
   "metadata": {},
   "outputs": [
    {
     "name": "stdout",
     "output_type": "stream",
     "text": [
      ": 1000\n",
      "1000\n"
     ]
    }
   ],
   "source": [
    "#Palindrome number\n",
    "n = int(input(\": \"))\n",
    "print(n)\n",
    "for i in range(1,n+1 ):\n",
    "    rev=0\n",
    "    num=n\n",
    "    while num>0:\n",
    "        d= num%10\n",
    "        rev=rev*10+d\n",
    "        num=num//10\n",
    "    if num==rev:\n",
    "        print(n, end=\" \")\n",
    "        \n"
   ]
  },
  {
   "cell_type": "code",
   "execution_count": null,
   "metadata": {},
   "outputs": [],
   "source": [
    "#multiplication table\n",
    "n= int(input())\n",
    "for i in range(1, 21):\n",
    "    print(i,\"*\", n, \"=\", i*n)"
   ]
  },
  {
   "cell_type": "code",
   "execution_count": null,
   "metadata": {},
   "outputs": [],
   "source": [
    "#perfect num\n",
    "n= int(input())\n",
    "sum=0\n",
    "for i in range(1, n):\n",
    "    if n%i==0:\n",
    "        sum=sum+i\n",
    "if sum==n:\n",
    "    print(n, \"is perfect number\")\n",
    "else:\n",
    "    print(\"not\")"
   ]
  },
  {
   "cell_type": "code",
   "execution_count": null,
   "metadata": {},
   "outputs": [],
   "source": [
    "#Factors\n",
    "n= int(input())\n",
    "for i in range(1, n+1):\n",
    "    if(n%i==0):\n",
    "        print(i,\", \",end= \"\")"
   ]
  },
  {
   "cell_type": "code",
   "execution_count": null,
   "metadata": {},
   "outputs": [],
   "source": [
    "#"
   ]
  },
  {
   "cell_type": "code",
   "execution_count": null,
   "metadata": {},
   "outputs": [],
   "source": []
  }
 ],
 "metadata": {
  "kernelspec": {
   "display_name": "Python 3",
   "language": "python",
   "name": "python3"
  },
  "language_info": {
   "codemirror_mode": {
    "name": "ipython",
    "version": 3
   },
   "file_extension": ".py",
   "mimetype": "text/x-python",
   "name": "python",
   "nbconvert_exporter": "python",
   "pygments_lexer": "ipython3",
   "version": "3.7.4"
  }
 },
 "nbformat": 4,
 "nbformat_minor": 2
}
